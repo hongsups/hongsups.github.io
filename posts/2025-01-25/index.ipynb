{
 "cells": [
  {
   "cell_type": "code",
   "execution_count": 1,
   "metadata": {},
   "outputs": [],
   "source": [
    "import wandb\n",
    "import random\n",
    "\n",
    "import numpy as np\n",
    "\n",
    "import ray\n",
    "from ray import train, tune\n",
    "from ray.air.integrations.wandb import WandbLoggerCallback, setup_wandb"
   ]
  },
  {
   "cell_type": "code",
   "execution_count": 2,
   "metadata": {},
   "outputs": [],
   "source": [
    "def train_function(config):\n",
    "    for i in range(30):\n",
    "        loss = config[\"mean\"] + config[\"sd\"] * np.random.randn()\n",
    "        train.report({\"loss\": loss})"
   ]
  },
  {
   "cell_type": "code",
   "execution_count": 3,
   "metadata": {},
   "outputs": [],
   "source": [
    "def tune_with_callback():\n",
    "    \"\"\"Example for using a WandbLoggerCallback with the function API\"\"\"\n",
    "    tuner = tune.Tuner(\n",
    "        train_function,\n",
    "        tune_config=tune.TuneConfig(\n",
    "            metric=\"loss\",\n",
    "            mode=\"min\",\n",
    "        ),\n",
    "        run_config=train.RunConfig(\n",
    "            callbacks=[WandbLoggerCallback(project=\"Wandb_example\")]\n",
    "        ),\n",
    "        param_space={\n",
    "            \"mean\": tune.grid_search([1, 2, 3, 4, 5]),\n",
    "            \"sd\": tune.uniform(0.2, 0.8),\n",
    "        },\n",
    "    )\n",
    "    tuner.fit()"
   ]
  },
  {
   "cell_type": "code",
   "execution_count": 4,
   "metadata": {},
   "outputs": [],
   "source": [
    "def train_function_wandb(config):\n",
    "    wandb = setup_wandb(config, project=\"Wandb_example\")\n",
    "\n",
    "    for i in range(30):\n",
    "        loss = config[\"mean\"] + config[\"sd\"] * np.random.randn()\n",
    "        train.report({\"loss\": loss})\n",
    "        wandb.log(dict(loss=loss))"
   ]
  },
  {
   "cell_type": "code",
   "execution_count": 5,
   "metadata": {},
   "outputs": [],
   "source": [
    "def tune_with_setup():\n",
    "    \"\"\"Example for using the setup_wandb utility with the function API\"\"\"\n",
    "    tuner = tune.Tuner(\n",
    "        train_function_wandb,\n",
    "        tune_config=tune.TuneConfig(\n",
    "            metric=\"loss\",\n",
    "            mode=\"min\",\n",
    "        ),\n",
    "        param_space={\n",
    "            \"mean\": tune.grid_search([1, 2, 3, 4, 5]),\n",
    "            \"sd\": tune.uniform(0.2, 0.8),\n",
    "        },\n",
    "    )\n",
    "    tuner.fit()"
   ]
  },
  {
   "cell_type": "code",
   "execution_count": 6,
   "metadata": {},
   "outputs": [],
   "source": [
    "class WandbTrainable(tune.Trainable):\n",
    "    def setup(self, config):\n",
    "        self.wandb = setup_wandb(\n",
    "            config,\n",
    "            trial_id=self.trial_id,\n",
    "            trial_name=self.trial_name,\n",
    "            group=\"Example\",\n",
    "            project=\"Wandb_example\",\n",
    "        )\n",
    "\n",
    "    def step(self):\n",
    "        for i in range(30):\n",
    "            loss = self.config[\"mean\"] + self.config[\"sd\"] * np.random.randn()\n",
    "            self.wandb.log({\"loss\": loss})\n",
    "        return {\"loss\": loss, \"done\": True}\n",
    "\n",
    "    def save_checkpoint(self, checkpoint_dir: str):\n",
    "        pass\n",
    "\n",
    "    def load_checkpoint(self, checkpoint_dir: str):\n",
    "        pass"
   ]
  },
  {
   "cell_type": "code",
   "execution_count": 7,
   "metadata": {},
   "outputs": [],
   "source": [
    "def tune_trainable():\n",
    "    \"\"\"Example for using a WandTrainableMixin with the class API\"\"\"\n",
    "    tuner = tune.Tuner(\n",
    "        WandbTrainable,\n",
    "        tune_config=tune.TuneConfig(\n",
    "            metric=\"loss\",\n",
    "            mode=\"min\",\n",
    "        ),\n",
    "        param_space={\n",
    "            \"mean\": tune.grid_search([1, 2, 3, 4, 5]),\n",
    "            \"sd\": tune.uniform(0.2, 0.8),\n",
    "        },\n",
    "    )\n",
    "    results = tuner.fit()\n",
    "\n",
    "    return results.get_best_result().config\n"
   ]
  },
  {
   "cell_type": "code",
   "execution_count": 17,
   "metadata": {},
   "outputs": [
    {
     "data": {
      "text/html": [
       "<div class=\"tuneStatus\">\n",
       "  <div style=\"display: flex;flex-direction: row\">\n",
       "    <div style=\"display: flex;flex-direction: column;\">\n",
       "      <h3>Tune Status</h3>\n",
       "      <table>\n",
       "<tbody>\n",
       "<tr><td>Current time:</td><td>2025-01-25 09:38:28</td></tr>\n",
       "<tr><td>Running for: </td><td>00:00:06.65        </td></tr>\n",
       "<tr><td>Memory:      </td><td>6.2/8.0 GiB        </td></tr>\n",
       "</tbody>\n",
       "</table>\n",
       "    </div>\n",
       "    <div class=\"vDivider\"></div>\n",
       "    <div class=\"systemInfo\">\n",
       "      <h3>System Info</h3>\n",
       "      Using FIFO scheduling algorithm.<br>Logical resource usage: 1.0/8 CPUs, 0/0 GPUs\n",
       "    </div>\n",
       "    \n",
       "  </div>\n",
       "  <div class=\"hDivider\"></div>\n",
       "  <div class=\"trialStatus\">\n",
       "    <h3>Trial Status</h3>\n",
       "    <table>\n",
       "<thead>\n",
       "<tr><th>Trial name                </th><th>status    </th><th>loc            </th><th style=\"text-align: right;\">  mean</th><th style=\"text-align: right;\">      sd</th><th style=\"text-align: right;\">  iter</th><th style=\"text-align: right;\">  total time (s)</th><th style=\"text-align: right;\">   loss</th></tr>\n",
       "</thead>\n",
       "<tbody>\n",
       "<tr><td>WandbTrainable_6831c_00000</td><td>TERMINATED</td><td>127.0.0.1:64142</td><td style=\"text-align: right;\">     1</td><td style=\"text-align: right;\">0.279629</td><td style=\"text-align: right;\">     1</td><td style=\"text-align: right;\">      0.00273991</td><td style=\"text-align: right;\">1.07313</td></tr>\n",
       "<tr><td>WandbTrainable_6831c_00001</td><td>TERMINATED</td><td>127.0.0.1:64143</td><td style=\"text-align: right;\">     2</td><td style=\"text-align: right;\">0.474353</td><td style=\"text-align: right;\">     1</td><td style=\"text-align: right;\">      0.00225115</td><td style=\"text-align: right;\">2.32919</td></tr>\n",
       "<tr><td>WandbTrainable_6831c_00002</td><td>TERMINATED</td><td>127.0.0.1:64144</td><td style=\"text-align: right;\">     3</td><td style=\"text-align: right;\">0.470929</td><td style=\"text-align: right;\">     1</td><td style=\"text-align: right;\">      0.00273681</td><td style=\"text-align: right;\">2.70396</td></tr>\n",
       "<tr><td>WandbTrainable_6831c_00003</td><td>TERMINATED</td><td>127.0.0.1:64145</td><td style=\"text-align: right;\">     4</td><td style=\"text-align: right;\">0.277263</td><td style=\"text-align: right;\">     1</td><td style=\"text-align: right;\">      0.00398517</td><td style=\"text-align: right;\">3.71797</td></tr>\n",
       "<tr><td>WandbTrainable_6831c_00004</td><td>TERMINATED</td><td>127.0.0.1:64146</td><td style=\"text-align: right;\">     5</td><td style=\"text-align: right;\">0.63165 </td><td style=\"text-align: right;\">     1</td><td style=\"text-align: right;\">      0.00171804</td><td style=\"text-align: right;\">5.36523</td></tr>\n",
       "</tbody>\n",
       "</table>\n",
       "  </div>\n",
       "</div>\n",
       "<style>\n",
       ".tuneStatus {\n",
       "  color: var(--jp-ui-font-color1);\n",
       "}\n",
       ".tuneStatus .systemInfo {\n",
       "  display: flex;\n",
       "  flex-direction: column;\n",
       "}\n",
       ".tuneStatus td {\n",
       "  white-space: nowrap;\n",
       "}\n",
       ".tuneStatus .trialStatus {\n",
       "  display: flex;\n",
       "  flex-direction: column;\n",
       "}\n",
       ".tuneStatus h3 {\n",
       "  font-weight: bold;\n",
       "}\n",
       ".tuneStatus .hDivider {\n",
       "  border-bottom-width: var(--jp-border-width);\n",
       "  border-bottom-color: var(--jp-border-color0);\n",
       "  border-bottom-style: solid;\n",
       "}\n",
       ".tuneStatus .vDivider {\n",
       "  border-left-width: var(--jp-border-width);\n",
       "  border-left-color: var(--jp-border-color0);\n",
       "  border-left-style: solid;\n",
       "  margin: 0.5em 1em 0.5em 1em;\n",
       "}\n",
       "</style>\n"
      ],
      "text/plain": [
       "<IPython.core.display.HTML object>"
      ]
     },
     "metadata": {},
     "output_type": "display_data"
    },
    {
     "name": "stderr",
     "output_type": "stream",
     "text": [
      "2025-01-25 09:38:28,131\tINFO tune.py:1009 -- Wrote the latest version of all result files and experiment state to '/Users/hongsupshin/ray_results/WandbTrainable_2025-01-25_09-38-21' in 0.0205s.\n",
      "2025-01-25 09:38:28,144\tINFO tune.py:1041 -- Total run time: 6.68 seconds (6.63 seconds for the tuning loop).\n"
     ]
    },
    {
     "data": {
      "text/plain": [
       "{'mean': 1, 'sd': 0.2796293119514601}"
      ]
     },
     "execution_count": 17,
     "metadata": {},
     "output_type": "execute_result"
    }
   ],
   "source": [
    "import os\n",
    "\n",
    "mock_api = False\n",
    "\n",
    "if mock_api:\n",
    "    os.environ.setdefault(\"WANDB_MODE\", \"disabled\")\n",
    "    os.environ.setdefault(\"WANDB_API_KEY\", \"abcd\")\n",
    "    ray.init(\n",
    "        runtime_env={\"env_vars\": {\"WANDB_MODE\": \"disabled\", \"WANDB_API_KEY\": \"abcd\"}}\n",
    "    )\n",
    "\n",
    "tune_with_callback()\n",
    "tune_with_setup()\n",
    "tune_trainable()"
   ]
  },
  {
   "cell_type": "code",
   "execution_count": 8,
   "metadata": {},
   "outputs": [
    {
     "name": "stderr",
     "output_type": "stream",
     "text": [
      "\u001b[34m\u001b[1mwandb\u001b[0m: Currently logged in as: \u001b[33mauth0-1wgih\u001b[0m (\u001b[33mauth0-1wgih-hs\u001b[0m). Use \u001b[1m`wandb login --relogin`\u001b[0m to force relogin\n"
     ]
    },
    {
     "data": {
      "text/plain": [
       "True"
      ]
     },
     "execution_count": 8,
     "metadata": {},
     "output_type": "execute_result"
    }
   ],
   "source": [
    "wandb.login()"
   ]
  },
  {
   "cell_type": "code",
   "execution_count": 9,
   "metadata": {},
   "outputs": [],
   "source": [
    "# api = wandb.Api()"
   ]
  },
  {
   "cell_type": "code",
   "execution_count": 15,
   "metadata": {},
   "outputs": [],
   "source": [
    "# run = wandb.init()"
   ]
  },
  {
   "cell_type": "code",
   "execution_count": 19,
   "metadata": {},
   "outputs": [],
   "source": [
    "# wandb.init(\n",
    "#     # set the wandb project where this run will be logged\n",
    "#     project=\"my-awesome-project\",\n",
    "\n",
    "#     # track hyperparameters and run metadata\n",
    "#     config={\n",
    "#     \"learning_rate\": 0.02,\n",
    "#     \"architecture\": \"CNN\",\n",
    "#     \"dataset\": \"CIFAR-100\",\n",
    "#     \"epochs\": 10,\n",
    "#     }\n",
    "# )\n"
   ]
  },
  {
   "cell_type": "code",
   "execution_count": 18,
   "metadata": {},
   "outputs": [],
   "source": [
    "# # simulate training\n",
    "# epochs = 10\n",
    "# offset = random.random() / 5\n",
    "# for epoch in range(2, epochs):\n",
    "#     acc = 1 - 2 ** -epoch - random.random() / epoch - offset\n",
    "#     loss = 2 ** -epoch + random.random() / epoch + offset\n",
    "\n",
    "#     # log metrics to wandb\n",
    "#     wandb.log({\"acc\": acc, \"loss\": loss})\n",
    "\n",
    "# # [optional] finish the wandb run, necessary in notebooks\n",
    "# wandb.finish()"
   ]
  },
  {
   "cell_type": "code",
   "execution_count": null,
   "metadata": {},
   "outputs": [],
   "source": []
  }
 ],
 "metadata": {
  "kernelspec": {
   "display_name": "wandb",
   "language": "python",
   "name": "python3"
  },
  "language_info": {
   "codemirror_mode": {
    "name": "ipython",
    "version": 3
   },
   "file_extension": ".py",
   "mimetype": "text/x-python",
   "name": "python",
   "nbconvert_exporter": "python",
   "pygments_lexer": "ipython3",
   "version": "3.12.0"
  }
 },
 "nbformat": 4,
 "nbformat_minor": 2
}
