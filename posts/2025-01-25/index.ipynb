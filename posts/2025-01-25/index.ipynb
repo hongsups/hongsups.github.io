{
 "cells": [
  {
   "cell_type": "markdown",
   "metadata": {},
   "source": [
    "---\n",
    "title: Model tuning with Weights & Biases, Ray Tune, and LightGBM\n",
    "author: Hongsup Shin\n",
    "date: 2025-01-25\n",
    "categories: [ML, ML Ops, visualization]\n",
    "description: ML model debugging often requires thorough inspection of model hyperparameters. By combining Weights & Biases' detailed visualization with Ray Tune's flexible tuning machinery, model inspection becomes much easier. This post demonstrates how to integrate both tools when tuning LightGBM models, and how to share the tuning results.\n",
    "image: Fig.png\n",
    "format:\n",
    "  html:\n",
    "    code-fold: false\n",
    "---"
   ]
  },
  {
   "cell_type": "markdown",
   "metadata": {},
   "source": [
    "*All healthy models are alike; each failing model fails in its own way.* \n",
    "\n",
    "There are many different ways that an ML model can fail and this is what makes model debugging challenging. For comprehensive understanding of model behavior, we log various metrics during model training. Unfortunately, because of their sheer volume, we need tools for logging, data mining, and visualization: MLflow, Neptune, Comet ML, Weights and Biases, and so on (see this [blog post](https://neptune.ai/vs/wandb-mlflow) by Neptune about a thorough side-by-side comparison among Neptune, MLflow, and Weights and Biases). \n",
    "\n",
    "With the increasing complexity of models, their hyperparameter spaces and the challenge of understanding their impact and interaction grow at the same time. In this post, I demonstrate how to use Weights and Biases for monitoring LightGBM model tuning by Ray Tune. I will also discuss how we can share the Weights and Biases reports publicly."
   ]
  },
  {
   "cell_type": "markdown",
   "metadata": {},
   "source": [
    "## Weights and Biases + Ray Tune\n",
    "\n",
    "[Weights and Biases (WandB)](https://wandb.ai/) is an ML model development platform that provides various services such as experiment monitoring, model tuning, model registry management, and workflow automation. In this post, I am focusing on the first two elements: monitoring and tuning. Even though WandB's [Sweeps](https://wandb.ai/site/sweeps/) provides hyperparameter search and optimization, in this post, I am using [Ray Tune](https://docs.ray.io/en/latest/tune/index.html) for model tuning and Sweeps for monitoring and visualization. Ray Tune is more frequently used for model tuning in ML community than WandB because it is an open source framework.\n",
    "\n",
    "Ray's [documentation](https://docs.ray.io/en/latest/tune/examples/tune-wandb.html) describes three ways to interact with WandB via its API, `WandbLoggerCallback` and `setup_wandb`:\n",
    "\n",
    "1. Use `WandbLoggerCallback` in `Train.RunConfig` (shown in this post)\n",
    "2. Set up `setup_wandb` in a trainable function with `wandb.log`\n",
    "3. Set up `setup_wandb` in a `Trainable` class with `wandb.log`\n",
    "\n",
    "Although this documentation is excellent, it only shows iteration-level logging where logs (or metrics) are generated at every iteration (or epoch) and passed to WandB. This isn't applicable to many existing models like the LightGBM ones. A callback is required to have the models return logged metrics during model training and tuning.\n",
    "\n",
    "According to [a WandB report](https://wandb.ai/authors/RayTune-dcgan/reports/Ray-Tune-Distributed-Hyperparameter-Optimization-at-Scale--VmlldzoyMDEwNDY), one can use `WandbLogger` (available in PyTorch Lightning, TorchTune, etc.) or `@wandb_mixin` decorator. I haven't tried these methods because the report seems outdated (referring to ray 0.8.7), and they are not described in the Ray documentation."
   ]
  },
  {
   "cell_type": "markdown",
   "metadata": {},
   "source": [
    "## Model tuning setup\n",
    "\n",
    "To demonstrate WandB and Ray Tune integration with LightGBM models, I prepared the following setup:\n",
    "\n",
    "- Data: Synthetic dataset with a 80:20 train-validation split\n",
    "- Objective: Binary classification with class imbalance\n",
    "- Model API: LightGBM native\n",
    "- Training metrics: Cross entropy, AUROC, and average precision for both training and validation data\n",
    "- Number of training epochs: 100\n",
    "- Tunable hyperparameters:\n",
    "```python\n",
    "    \"num_leaves\": tune.choice([31, 63, 127]),\n",
    "    \"learning_rate\": tune.loguniform(1e-3, 1e-1),\n",
    "    \"min_data_in_leaf\": tune.choice([20, 50, 100]),\n",
    "    \"max_depth\": tune.choice([-1, 5, 10]),\n",
    "    \"boosting_type\": tune.choice([\"gbdt\", \"dart\"]),\n",
    "    \"bagging_fraction\": tune.uniform(0.5, 1.0),\n",
    "    \"bagging_freq\": tune.choice([0, 1, 5])\n",
    "```\n",
    "- Model selection metric (tuning): Cross entropy of the validation set\n",
    "- Number of searches: 8"
   ]
  },
  {
   "cell_type": "markdown",
   "metadata": {},
   "source": [
    "### Module import and ray initialization"
   ]
  },
  {
   "cell_type": "code",
   "execution_count": 1,
   "metadata": {},
   "outputs": [],
   "source": [
    "import os\n",
    "from IPython.display import IFrame\n",
    "from sklearn.datasets import make_classification\n",
    "from sklearn.model_selection import train_test_split\n",
    "import lightgbm as lgb\n",
    "import ray\n",
    "from ray import train, tune\n",
    "from ray.tune.integration.lightgbm import TuneReportCheckpointCallback\n",
    "from ray.tune.schedulers import ASHAScheduler\n",
    "from ray.air.integrations.wandb import WandbLoggerCallback\n",
    "import wandb\n",
    "\n",
    "os.environ[\"WANDB_SILENT\"] = \"true\"\n",
    "\n",
    "seed = 42"
   ]
  },
  {
   "cell_type": "code",
   "execution_count": 2,
   "metadata": {},
   "outputs": [
    {
     "name": "stderr",
     "output_type": "stream",
     "text": [
      "2025-01-26 10:57:00,944\tINFO worker.py:1812 -- Started a local Ray instance. View the dashboard at \u001b[1m\u001b[32mhttp://127.0.0.1:8265 \u001b[39m\u001b[22m\n"
     ]
    },
    {
     "data": {
      "application/vnd.jupyter.widget-view+json": {
       "model_id": "4bc71992fa7a416c9af9b929ea210a27",
       "version_major": 2,
       "version_minor": 0
      },
      "text/html": [
       "<div class=\"lm-Widget p-Widget lm-Panel p-Panel jp-Cell-outputWrapper\">\n",
       "    <div style=\"margin-left: 50px;display: flex;flex-direction: row;align-items: center\">\n",
       "        <div class=\"jp-RenderedHTMLCommon\" style=\"display: flex; flex-direction: row;\">\n",
       "  <svg viewBox=\"0 0 567 224\" fill=\"none\" xmlns=\"http://www.w3.org/2000/svg\" style=\"height: 3em;\">\n",
       "    <g clip-path=\"url(#clip0_4338_178347)\">\n",
       "        <path d=\"M341.29 165.561H355.29L330.13 129.051C345.63 123.991 354.21 112.051 354.21 94.2307C354.21 71.3707 338.72 58.1807 311.88 58.1807H271V165.561H283.27V131.661H311.8C314.25 131.661 316.71 131.501 319.01 131.351L341.25 165.561H341.29ZM283.29 119.851V70.0007H311.82C331.3 70.0007 342.34 78.2907 342.34 94.5507C342.34 111.271 331.34 119.861 311.82 119.861L283.29 119.851ZM451.4 138.411L463.4 165.561H476.74L428.74 58.1807H416L367.83 165.561H380.83L392.83 138.411H451.4ZM446.19 126.601H398L422 72.1407L446.24 126.601H446.19ZM526.11 128.741L566.91 58.1807H554.35L519.99 114.181L485.17 58.1807H472.44L514.01 129.181V165.541H526.13V128.741H526.11Z\" fill=\"var(--jp-ui-font-color0)\"/>\n",
       "        <path d=\"M82.35 104.44C84.0187 97.8827 87.8248 92.0678 93.1671 87.9146C98.5094 83.7614 105.083 81.5067 111.85 81.5067C118.617 81.5067 125.191 83.7614 130.533 87.9146C135.875 92.0678 139.681 97.8827 141.35 104.44H163.75C164.476 101.562 165.622 98.8057 167.15 96.2605L127.45 56.5605C121.071 60.3522 113.526 61.6823 106.235 60.3005C98.9443 58.9187 92.4094 54.9203 87.8602 49.0574C83.3109 43.1946 81.0609 35.8714 81.5332 28.4656C82.0056 21.0599 85.1679 14.0819 90.4252 8.8446C95.6824 3.60726 102.672 0.471508 110.08 0.0272655C117.487 -0.416977 124.802 1.86091 130.647 6.4324C136.493 11.0039 140.467 17.5539 141.821 24.8501C143.175 32.1463 141.816 39.6859 138 46.0505L177.69 85.7505C182.31 82.9877 187.58 81.4995 192.962 81.4375C198.345 81.3755 203.648 82.742 208.33 85.3976C213.012 88.0532 216.907 91.9029 219.616 96.5544C222.326 101.206 223.753 106.492 223.753 111.875C223.753 117.258 222.326 122.545 219.616 127.197C216.907 131.848 213.012 135.698 208.33 138.353C203.648 141.009 198.345 142.375 192.962 142.313C187.58 142.251 182.31 140.763 177.69 138L138 177.7C141.808 184.071 143.155 191.614 141.79 198.91C140.424 206.205 136.44 212.75 130.585 217.313C124.731 221.875 117.412 224.141 110.004 223.683C102.596 223.226 95.6103 220.077 90.3621 214.828C85.1139 209.58 81.9647 202.595 81.5072 195.187C81.0497 187.779 83.3154 180.459 87.878 174.605C92.4405 168.751 98.9853 164.766 106.281 163.401C113.576 162.035 121.119 163.383 127.49 167.19L167.19 127.49C165.664 124.941 164.518 122.182 163.79 119.3H141.39C139.721 125.858 135.915 131.673 130.573 135.826C125.231 139.98 118.657 142.234 111.89 142.234C105.123 142.234 98.5494 139.98 93.2071 135.826C87.8648 131.673 84.0587 125.858 82.39 119.3H60C58.1878 126.495 53.8086 132.78 47.6863 136.971C41.5641 141.163 34.1211 142.972 26.7579 142.059C19.3947 141.146 12.6191 137.574 7.70605 132.014C2.79302 126.454 0.0813599 119.29 0.0813599 111.87C0.0813599 104.451 2.79302 97.2871 7.70605 91.7272C12.6191 86.1673 19.3947 82.5947 26.7579 81.6817C34.1211 80.7686 41.5641 82.5781 47.6863 86.7696C53.8086 90.9611 58.1878 97.2456 60 104.44H82.35ZM100.86 204.32C103.407 206.868 106.759 208.453 110.345 208.806C113.93 209.159 117.527 208.258 120.522 206.256C123.517 204.254 125.725 201.276 126.771 197.828C127.816 194.38 127.633 190.677 126.253 187.349C124.874 184.021 122.383 181.274 119.205 179.577C116.027 177.88 112.359 177.337 108.826 178.042C105.293 178.746 102.113 180.654 99.8291 183.44C97.5451 186.226 96.2979 189.718 96.3 193.32C96.2985 195.364 96.7006 197.388 97.4831 199.275C98.2656 201.163 99.4132 202.877 100.86 204.32ZM204.32 122.88C206.868 120.333 208.453 116.981 208.806 113.396C209.159 109.811 208.258 106.214 206.256 103.219C204.254 100.223 201.275 98.0151 197.827 96.97C194.38 95.9249 190.676 96.1077 187.348 97.4873C184.02 98.8669 181.274 101.358 179.577 104.536C177.879 107.714 177.337 111.382 178.041 114.915C178.746 118.448 180.653 121.627 183.439 123.911C186.226 126.195 189.717 127.443 193.32 127.44C195.364 127.443 197.388 127.042 199.275 126.259C201.163 125.476 202.878 124.328 204.32 122.88ZM122.88 19.4205C120.333 16.8729 116.981 15.2876 113.395 14.9347C109.81 14.5817 106.213 15.483 103.218 17.4849C100.223 19.4868 98.0146 22.4654 96.9696 25.9131C95.9245 29.3608 96.1073 33.0642 97.4869 36.3922C98.8665 39.7202 101.358 42.4668 104.535 44.1639C107.713 45.861 111.381 46.4036 114.914 45.6992C118.447 44.9949 121.627 43.0871 123.911 40.301C126.195 37.515 127.442 34.0231 127.44 30.4205C127.44 28.3772 127.038 26.3539 126.255 24.4664C125.473 22.5788 124.326 20.8642 122.88 19.4205ZM19.42 100.86C16.8725 103.408 15.2872 106.76 14.9342 110.345C14.5813 113.93 15.4826 117.527 17.4844 120.522C19.4863 123.518 22.4649 125.726 25.9127 126.771C29.3604 127.816 33.0638 127.633 36.3918 126.254C39.7198 124.874 42.4664 122.383 44.1635 119.205C45.8606 116.027 46.4032 112.359 45.6988 108.826C44.9944 105.293 43.0866 102.114 40.3006 99.8296C37.5145 97.5455 34.0227 96.2983 30.42 96.3005C26.2938 96.3018 22.337 97.9421 19.42 100.86ZM100.86 100.86C98.3125 103.408 96.7272 106.76 96.3742 110.345C96.0213 113.93 96.9226 117.527 98.9244 120.522C100.926 123.518 103.905 125.726 107.353 126.771C110.8 127.816 114.504 127.633 117.832 126.254C121.16 124.874 123.906 122.383 125.604 119.205C127.301 116.027 127.843 112.359 127.139 108.826C126.434 105.293 124.527 102.114 121.741 99.8296C118.955 97.5455 115.463 96.2983 111.86 96.3005C109.817 96.299 107.793 96.701 105.905 97.4835C104.018 98.2661 102.303 99.4136 100.86 100.86Z\" fill=\"#00AEEF\"/>\n",
       "    </g>\n",
       "    <defs>\n",
       "        <clipPath id=\"clip0_4338_178347\">\n",
       "            <rect width=\"566.93\" height=\"223.75\" fill=\"white\"/>\n",
       "        </clipPath>\n",
       "    </defs>\n",
       "  </svg>\n",
       "</div>\n",
       "\n",
       "        <table class=\"jp-RenderedHTMLCommon\" style=\"border-collapse: collapse;color: var(--jp-ui-font-color1);font-size: var(--jp-ui-font-size1);\">\n",
       "    <tr>\n",
       "        <td style=\"text-align: left\"><b>Python version:</b></td>\n",
       "        <td style=\"text-align: left\"><b>3.12.0</b></td>\n",
       "    </tr>\n",
       "    <tr>\n",
       "        <td style=\"text-align: left\"><b>Ray version:</b></td>\n",
       "        <td style=\"text-align: left\"><b>2.40.0</b></td>\n",
       "    </tr>\n",
       "    <tr>\n",
       "    <td style=\"text-align: left\"><b>Dashboard:</b></td>\n",
       "    <td style=\"text-align: left\"><b><a href=\"http://127.0.0.1:8265\" target=\"_blank\">http://127.0.0.1:8265</a></b></td>\n",
       "</tr>\n",
       "\n",
       "</table>\n",
       "\n",
       "    </div>\n",
       "</div>\n"
      ],
      "text/plain": [
       "RayContext(dashboard_url='127.0.0.1:8265', python_version='3.12.0', ray_version='2.40.0', ray_commit='{{RAY_COMMIT_SHA}}')"
      ]
     },
     "execution_count": 2,
     "metadata": {},
     "output_type": "execute_result"
    }
   ],
   "source": [
    "ray.init(num_cpus=4)"
   ]
  },
  {
   "cell_type": "markdown",
   "metadata": {},
   "source": [
    "### Training data"
   ]
  },
  {
   "cell_type": "code",
   "execution_count": 3,
   "metadata": {},
   "outputs": [],
   "source": [
    "X, y = make_classification(\n",
    "    n_samples=1000, n_features=20, n_classes=2, weights=[0.9, 0.1], random_state=seed\n",
    ")\n",
    "\n",
    "X_train, X_test, y_train, y_test = train_test_split(\n",
    "    X, y, test_size=0.2, random_state=seed)\n",
    "\n",
    "data = {'X_train': X_train, 'y_train': y_train, 'X_test': X_test, 'y_test': y_test} "
   ]
  },
  {
   "cell_type": "markdown",
   "metadata": {},
   "source": [
    "### Training config (parameter space)\n"
   ]
  },
  {
   "cell_type": "code",
   "execution_count": 4,
   "metadata": {},
   "outputs": [],
   "source": [
    "config = {\n",
    "    \"objective\": \"binary\",\n",
    "    \"metric\": [\"binary_logloss\", \"auc\", \"average_precision\"],\n",
    "    \"verbose\": -1,\n",
    "    \"n_estimators\": 100,\n",
    "    \"num_leaves\": tune.choice([15, 31, 63, 127]),\n",
    "    \"learning_rate\": tune.loguniform(1e-4, 1e-1),\n",
    "    \"min_data_in_leaf\": tune.choice([20, 40, 60, 80, 100]),\n",
    "    \"max_depth\": tune.choice([-1, 5, 10]),\n",
    "    \"boosting_type\": tune.choice([\"gbdt\", \"dart\"]),\n",
    "    \"bagging_fraction\": tune.uniform(0.5, 1.0),\n",
    "    \"bagging_freq\": tune.choice([0, 1, 5]),    \n",
    "}"
   ]
  },
  {
   "cell_type": "markdown",
   "metadata": {},
   "source": [
    "### Training function\n",
    "\n",
    "Here I am using `ray.tune.integration.lightgbm.TuneReportCheckpointCallback` with `frequency=1` (every iteration) as a main callback function to log the metrics defined in `config` (`[\"binary_logloss\", \"auc\", \"average_precision\"]`). Both training and validation dataset metrics are tracked: note that the metric names in the callback have a format of `\"{valid_names[i]}-{metric[i]}\"`.\n",
    "\n",
    "The training function below takes two inputs: `config` and `data`. Inside the function, `lightgbm.Dataset` objects are constructed and the native `lightgbm.train` is called. Training data (`data`) can be later passed to the Tune wrapper via `tune.with_parameters`."
   ]
  },
  {
   "cell_type": "code",
   "execution_count": 5,
   "metadata": {},
   "outputs": [],
   "source": [
    "def train_function(config, data):\n",
    "    train_set = lgb.Dataset(data['X_train'], data['y_train'])\n",
    "    val_set = lgb.Dataset(data['X_test'], data['y_test'], reference=train_set)\n",
    "\n",
    "    model = lgb.train(\n",
    "        config,\n",
    "        train_set,\n",
    "        valid_sets=[train_set, val_set],\n",
    "        valid_names=[\"train\", \"val\"],\n",
    "        callbacks=[\n",
    "            TuneReportCheckpointCallback(\n",
    "                frequency=1,\n",
    "                metrics={\n",
    "                    \"train_loss\": \"train-binary_logloss\",\n",
    "                    \"train_auc\": \"train-auc\",\n",
    "                    \"train_average_precision\": \"train-average_precision\",\n",
    "                    \"val_loss\": \"val-binary_logloss\",\n",
    "                    \"val_auc\": \"val-auc\",\n",
    "                    \"val_average_precision\": \"val-average_precision\",\n",
    "                },\n",
    "            )\n",
    "        ],\n",
    "    )"
   ]
  },
  {
   "cell_type": "markdown",
   "metadata": {},
   "source": [
    "### Tuner"
   ]
  },
  {
   "cell_type": "markdown",
   "metadata": {},
   "source": [
    "`WandbLoggerCallback` is used with a project name to send logs to WandB's server. Like `train_function`, the tuner accepts `config` and `data` arguments. Following Ray's best practices, datasets are passed through the `data` argument via `tune.with_parameters` rather than the config."
   ]
  },
  {
   "cell_type": "code",
   "execution_count": 6,
   "metadata": {},
   "outputs": [],
   "source": [
    "n_searches = 8\n",
    "\n",
    "\n",
    "def tune_with_callback(config, data):\n",
    "    tuner = tune.Tuner(\n",
    "        tune.with_parameters(train_function, data=data),\n",
    "        param_space=config,\n",
    "        tune_config=tune.TuneConfig(\n",
    "            metric=\"val_loss\", mode=\"min\", num_samples=n_searches\n",
    "        ),\n",
    "        run_config=train.RunConfig(\n",
    "            callbacks=[WandbLoggerCallback(project=\"WandB-RayTune-LightGBM\")]\n",
    "        ),\n",
    "    )\n",
    "    tuner.fit()"
   ]
  },
  {
   "cell_type": "markdown",
   "metadata": {},
   "source": [
    "### WandB setup"
   ]
  },
  {
   "cell_type": "markdown",
   "metadata": {},
   "source": [
    "`WandB` requires sign-up. Their [free tier](https://wandb.ai/site/pricing/) offers limited storage and support but includes core functionality. Follow their [quickstart page](https://docs.wandb.ai/quickstart/) for setup. "
   ]
  },
  {
   "cell_type": "code",
   "execution_count": 7,
   "metadata": {},
   "outputs": [
    {
     "data": {
      "text/plain": [
       "True"
      ]
     },
     "execution_count": 7,
     "metadata": {},
     "output_type": "execute_result"
    }
   ],
   "source": [
    "wandb.login()"
   ]
  },
  {
   "cell_type": "code",
   "execution_count": 8,
   "metadata": {},
   "outputs": [
    {
     "data": {
      "text/html": [
       "<div class=\"tuneStatus\">\n",
       "  <div style=\"display: flex;flex-direction: row\">\n",
       "    <div style=\"display: flex;flex-direction: column;\">\n",
       "      <h3>Tune Status</h3>\n",
       "      <table>\n",
       "<tbody>\n",
       "<tr><td>Current time:</td><td>2025-01-26 10:57:34</td></tr>\n",
       "<tr><td>Running for: </td><td>00:00:19.66        </td></tr>\n",
       "<tr><td>Memory:      </td><td>12.6/16.0 GiB      </td></tr>\n",
       "</tbody>\n",
       "</table>\n",
       "    </div>\n",
       "    <div class=\"vDivider\"></div>\n",
       "    <div class=\"systemInfo\">\n",
       "      <h3>System Info</h3>\n",
       "      Using FIFO scheduling algorithm.<br>Logical resource usage: 1.0/4 CPUs, 0/0 GPUs\n",
       "    </div>\n",
       "    \n",
       "  </div>\n",
       "  <div class=\"hDivider\"></div>\n",
       "  <div class=\"trialStatus\">\n",
       "    <h3>Trial Status</h3>\n",
       "    <table>\n",
       "<thead>\n",
       "<tr><th>Trial name                </th><th>status    </th><th>loc            </th><th style=\"text-align: right;\">  bagging_fraction</th><th style=\"text-align: right;\">  bagging_freq</th><th>boosting_type  </th><th style=\"text-align: right;\">  learning_rate</th><th style=\"text-align: right;\">  max_depth</th><th style=\"text-align: right;\">  min_data_in_leaf</th><th style=\"text-align: right;\">  num_leaves</th><th style=\"text-align: right;\">  iter</th><th style=\"text-align: right;\">  total time (s)</th><th style=\"text-align: right;\">  train_loss</th><th style=\"text-align: right;\">  train_auc</th><th style=\"text-align: right;\">         train_average_precis\n",
       "ion</th></tr>\n",
       "</thead>\n",
       "<tbody>\n",
       "<tr><td>train_function_97fa2_00000</td><td>TERMINATED</td><td>127.0.0.1:83708</td><td style=\"text-align: right;\">          0.878482</td><td style=\"text-align: right;\">             1</td><td>gbdt           </td><td style=\"text-align: right;\">    0.0409389  </td><td style=\"text-align: right;\">         -1</td><td style=\"text-align: right;\">                60</td><td style=\"text-align: right;\">          31</td><td style=\"text-align: right;\">   100</td><td style=\"text-align: right;\">        0.417227</td><td style=\"text-align: right;\">   0.0631622</td><td style=\"text-align: right;\">   0.997799</td><td style=\"text-align: right;\">0.982008</td></tr>\n",
       "<tr><td>train_function_97fa2_00001</td><td>TERMINATED</td><td>127.0.0.1:83706</td><td style=\"text-align: right;\">          0.658912</td><td style=\"text-align: right;\">             5</td><td>dart           </td><td style=\"text-align: right;\">    0.0170101  </td><td style=\"text-align: right;\">         10</td><td style=\"text-align: right;\">                60</td><td style=\"text-align: right;\">         127</td><td style=\"text-align: right;\">   100</td><td style=\"text-align: right;\">        0.392265</td><td style=\"text-align: right;\">   0.241471 </td><td style=\"text-align: right;\">   0.967141</td><td style=\"text-align: right;\">0.770121</td></tr>\n",
       "<tr><td>train_function_97fa2_00002</td><td>TERMINATED</td><td>127.0.0.1:83705</td><td style=\"text-align: right;\">          0.837067</td><td style=\"text-align: right;\">             1</td><td>dart           </td><td style=\"text-align: right;\">    0.0775392  </td><td style=\"text-align: right;\">         10</td><td style=\"text-align: right;\">                60</td><td style=\"text-align: right;\">          63</td><td style=\"text-align: right;\">   100</td><td style=\"text-align: right;\">        0.443744</td><td style=\"text-align: right;\">   0.102647 </td><td style=\"text-align: right;\">   0.992724</td><td style=\"text-align: right;\">0.945557</td></tr>\n",
       "<tr><td>train_function_97fa2_00003</td><td>TERMINATED</td><td>127.0.0.1:83707</td><td style=\"text-align: right;\">          0.622214</td><td style=\"text-align: right;\">             0</td><td>gbdt           </td><td style=\"text-align: right;\">    0.000216889</td><td style=\"text-align: right;\">          5</td><td style=\"text-align: right;\">               100</td><td style=\"text-align: right;\">         127</td><td style=\"text-align: right;\">   100</td><td style=\"text-align: right;\">        0.37126 </td><td style=\"text-align: right;\">   0.323874 </td><td style=\"text-align: right;\">   0.93965 </td><td style=\"text-align: right;\">0.554631</td></tr>\n",
       "<tr><td>train_function_97fa2_00004</td><td>TERMINATED</td><td>127.0.0.1:83838</td><td style=\"text-align: right;\">          0.821865</td><td style=\"text-align: right;\">             5</td><td>gbdt           </td><td style=\"text-align: right;\">    0.00415785 </td><td style=\"text-align: right;\">         -1</td><td style=\"text-align: right;\">               100</td><td style=\"text-align: right;\">          63</td><td style=\"text-align: right;\">   100</td><td style=\"text-align: right;\">        0.41642 </td><td style=\"text-align: right;\">   0.232447 </td><td style=\"text-align: right;\">   0.960898</td><td style=\"text-align: right;\">0.734143</td></tr>\n",
       "<tr><td>train_function_97fa2_00005</td><td>TERMINATED</td><td>127.0.0.1:83837</td><td style=\"text-align: right;\">          0.8452  </td><td style=\"text-align: right;\">             0</td><td>dart           </td><td style=\"text-align: right;\">    0.0109837  </td><td style=\"text-align: right;\">         10</td><td style=\"text-align: right;\">                40</td><td style=\"text-align: right;\">          15</td><td style=\"text-align: right;\">   100</td><td style=\"text-align: right;\">        0.54864 </td><td style=\"text-align: right;\">   0.266188 </td><td style=\"text-align: right;\">   0.974223</td><td style=\"text-align: right;\">0.853426</td></tr>\n",
       "<tr><td>train_function_97fa2_00006</td><td>TERMINATED</td><td>127.0.0.1:83839</td><td style=\"text-align: right;\">          0.574684</td><td style=\"text-align: right;\">             0</td><td>gbdt           </td><td style=\"text-align: right;\">    0.00362588 </td><td style=\"text-align: right;\">         10</td><td style=\"text-align: right;\">               100</td><td style=\"text-align: right;\">          63</td><td style=\"text-align: right;\">   100</td><td style=\"text-align: right;\">        0.412159</td><td style=\"text-align: right;\">   0.238196 </td><td style=\"text-align: right;\">   0.962041</td><td style=\"text-align: right;\">0.730329</td></tr>\n",
       "<tr><td>train_function_97fa2_00007</td><td>TERMINATED</td><td>127.0.0.1:83836</td><td style=\"text-align: right;\">          0.698182</td><td style=\"text-align: right;\">             0</td><td>gbdt           </td><td style=\"text-align: right;\">    0.0277846  </td><td style=\"text-align: right;\">          5</td><td style=\"text-align: right;\">                40</td><td style=\"text-align: right;\">          15</td><td style=\"text-align: right;\">   100</td><td style=\"text-align: right;\">        0.466146</td><td style=\"text-align: right;\">   0.0752791</td><td style=\"text-align: right;\">   0.99627 </td><td style=\"text-align: right;\">0.972842</td></tr>\n",
       "</tbody>\n",
       "</table>\n",
       "  </div>\n",
       "</div>\n",
       "<style>\n",
       ".tuneStatus {\n",
       "  color: var(--jp-ui-font-color1);\n",
       "}\n",
       ".tuneStatus .systemInfo {\n",
       "  display: flex;\n",
       "  flex-direction: column;\n",
       "}\n",
       ".tuneStatus td {\n",
       "  white-space: nowrap;\n",
       "}\n",
       ".tuneStatus .trialStatus {\n",
       "  display: flex;\n",
       "  flex-direction: column;\n",
       "}\n",
       ".tuneStatus h3 {\n",
       "  font-weight: bold;\n",
       "}\n",
       ".tuneStatus .hDivider {\n",
       "  border-bottom-width: var(--jp-border-width);\n",
       "  border-bottom-color: var(--jp-border-color0);\n",
       "  border-bottom-style: solid;\n",
       "}\n",
       ".tuneStatus .vDivider {\n",
       "  border-left-width: var(--jp-border-width);\n",
       "  border-left-color: var(--jp-border-color0);\n",
       "  border-left-style: solid;\n",
       "  margin: 0.5em 1em 0.5em 1em;\n",
       "}\n",
       "</style>\n"
      ],
      "text/plain": [
       "<IPython.core.display.HTML object>"
      ]
     },
     "metadata": {},
     "output_type": "display_data"
    },
    {
     "name": "stderr",
     "output_type": "stream",
     "text": [
      "2025-01-26 10:57:14,965\tINFO wandb.py:319 -- Already logged into W&B.\n",
      "WARNING: All log messages before absl::InitializeLog() is called are written to STDERR\n",
      "I0000 00:00:1737910636.174542 19552148 chttp2_transport.cc:1182] ipv4:127.0.0.1:51265: Got goaway [2] err=UNAVAILABLE:GOAWAY received; Error code: 2; Debug Text: Cancelling all calls {grpc_status:14, http2_error:2, created_time:\"2025-01-26T10:57:16.17454-06:00\", file_line:1171, file:\"external/com_github_grpc_grpc/src/core/ext/transport/chttp2/transport/chttp2_transport.cc\"}\n",
      "I0000 00:00:1737910636.176357 19552148 chttp2_transport.cc:1182] ipv4:127.0.0.1:51256: Got goaway [2] err=UNAVAILABLE:GOAWAY received; Error code: 2; Debug Text: Cancelling all calls {grpc_status:14, http2_error:2, created_time:\"2025-01-26T10:57:16.176356-06:00\", file_line:1171, file:\"external/com_github_grpc_grpc/src/core/ext/transport/chttp2/transport/chttp2_transport.cc\"}\n",
      "I0000 00:00:1737910645.637782 19552148 chttp2_transport.cc:1182] ipv4:127.0.0.1:51511: Got goaway [2] err=UNAVAILABLE:GOAWAY received; Error code: 2; Debug Text: Cancelling all calls {grpc_status:14, http2_error:2, created_time:\"2025-01-26T10:57:25.637779-06:00\", file_line:1171, file:\"external/com_github_grpc_grpc/src/core/ext/transport/chttp2/transport/chttp2_transport.cc\"}\n",
      "I0000 00:00:1737910645.648876 19552148 chttp2_transport.cc:1182] ipv4:127.0.0.1:51523: Got goaway [2] err=UNAVAILABLE:GOAWAY received; Error code: 2; Debug Text: Cancelling all calls {grpc_status:14, http2_error:2, created_time:\"2025-01-26T10:57:25.648874-06:00\", file_line:1171, file:\"external/com_github_grpc_grpc/src/core/ext/transport/chttp2/transport/chttp2_transport.cc\"}\n",
      "2025-01-26 10:57:34,623\tINFO tune.py:1009 -- Wrote the latest version of all result files and experiment state to '/Users/hongsupshin/ray_results/train_function_2025-01-26_10-57-14' in 0.0332s.\n",
      "2025-01-26 10:57:49,893\tINFO tune.py:1041 -- Total run time: 34.95 seconds (19.62 seconds for the tuning loop).\n"
     ]
    },
    {
     "name": "stderr",
     "output_type": "stream",
     "text": [
      "\u001b[36m(train_function pid=83708)\u001b[0m /opt/homebrew/Caskroom/miniforge/base/envs/wandb/lib/python3.12/site-packages/lightgbm/engine.py:204: UserWarning: Found `n_estimators` in params. Will use it instead of argument\n",
      "\u001b[36m(train_function pid=83708)\u001b[0m   _log_warning(f\"Found `{alias}` in params. Will use it instead of argument\")\n",
      "\u001b[36m(train_function pid=83708)\u001b[0m Checkpoint successfully created at: Checkpoint(filesystem=local, path=/Users/hongsupshin/ray_results/train_function_2025-01-26_10-57-14/train_function_97fa2_00000_0_bagging_fraction=0.8785,bagging_freq=1,boosting_type=gbdt,learning_rate=0.0409,max_depth=-1,min_data__2025-01-26_10-57-14/checkpoint_000000)\n",
      "\u001b[36m(train_function pid=83706)\u001b[0m /opt/homebrew/Caskroom/miniforge/base/envs/wandb/lib/python3.12/site-packages/lightgbm/engine.py:204: UserWarning: Found `n_estimators` in params. Will use it instead of argument\u001b[32m [repeated 3x across cluster] (Ray deduplicates logs by default. Set RAY_DEDUP_LOGS=0 to disable log deduplication, or see https://docs.ray.io/en/master/ray-observability/user-guides/configure-logging.html#log-deduplication for more options.)\u001b[0m\n",
      "\u001b[36m(train_function pid=83706)\u001b[0m   _log_warning(f\"Found `{alias}` in params. Will use it instead of argument\")\u001b[32m [repeated 3x across cluster]\u001b[0m\n",
      "\u001b[36m(train_function pid=83708)\u001b[0m Checkpoint successfully created at: Checkpoint(filesystem=local, path=/Users/hongsupshin/ray_results/train_function_2025-01-26_10-57-14/train_function_97fa2_00000_0_bagging_fraction=0.8785,bagging_freq=1,boosting_type=gbdt,learning_rate=0.0409,max_depth=-1,min_data__2025-01-26_10-57-14/checkpoint_000046)\u001b[32m [repeated 190x across cluster]\u001b[0m\n"
     ]
    },
    {
     "name": "stdout",
     "output_type": "stream",
     "text": [
      "\u001b[33m(raylet)\u001b[0m WARNING: 16 PYTHON worker processes have been started on node: 0c8a8cbf6029ce14f7fb87978d96c38f57da4534a8d65e705f6940a9 with address: 127.0.0.1. This could be a result of using a large number of actors, or due to tasks blocked in ray.get() calls (see https://github.com/ray-project/ray/issues/3644 for some discussion of workarounds).\n"
     ]
    },
    {
     "name": "stderr",
     "output_type": "stream",
     "text": [
      "\u001b[33m(raylet)\u001b[0m WARNING: All log messages before absl::InitializeLog() is called are written to STDERR\n",
      "\u001b[33m(raylet)\u001b[0m I0000 00:00:1737910645.636949 19552110 chttp2_transport.cc:1182] ipv4:127.0.0.1:51511: Got goaway [2] err=UNAVAILABLE:GOAWAY received; Error code: 2; Debug Text: Cancelling all calls {grpc_status:14, http2_error:2, created_time:\"2025-01-26T10:57:25.636948-06:00\", file_line:1171, file:\"external/com_github_grpc_grpc/src/core/ext/transport/chttp2/transport/chttp2_transport.cc\"}\n",
      "\u001b[36m(train_function pid=83837)\u001b[0m /opt/homebrew/Caskroom/miniforge/base/envs/wandb/lib/python3.12/site-packages/lightgbm/engine.py:204: UserWarning: Found `n_estimators` in params. Will use it instead of argument\u001b[32m [repeated 4x across cluster]\u001b[0m\n",
      "\u001b[36m(train_function pid=83837)\u001b[0m   _log_warning(f\"Found `{alias}` in params. Will use it instead of argument\")\u001b[32m [repeated 4x across cluster]\u001b[0m\n",
      "\u001b[36m(train_function pid=83836)\u001b[0m Checkpoint successfully created at: Checkpoint(filesystem=local, path=/Users/hongsupshin/ray_results/train_function_2025-01-26_10-57-14/train_function_97fa2_00007_7_bagging_fraction=0.6982,bagging_freq=0,boosting_type=gbdt,learning_rate=0.0278,max_depth=5,min_data_i_2025-01-26_10-57-15/checkpoint_000000)\u001b[32m [repeated 212x across cluster]\u001b[0m\n",
      "\u001b[36m(train_function pid=83837)\u001b[0m Checkpoint successfully created at: Checkpoint(filesystem=local, path=/Users/hongsupshin/ray_results/train_function_2025-01-26_10-57-14/train_function_97fa2_00005_5_bagging_fraction=0.8452,bagging_freq=0,boosting_type=dart,learning_rate=0.0110,max_depth=10,min_data__2025-01-26_10-57-14/checkpoint_000067)\u001b[32m [repeated 265x across cluster]\u001b[0m\n"
     ]
    }
   ],
   "source": [
    "tune_with_callback(config, data)"
   ]
  },
  {
   "cell_type": "markdown",
   "metadata": {},
   "source": [
    "## Sweeps visualization with Ray Tune runs\n",
    "\n",
    "After tuning completes, WandB's dashboard displays all search runs. I can access visualizations through either the Sweeps sidebar panel or by selecting runs and clicking \"New Sweeps.\"\n",
    "\n",
    "![](Fig2.png)\n",
    "\n",
    "This leads to the Sweep Configuration page, which shows an auto-generated YAML file that may need correction. For example, the optimization metric incorrectly shows \"Relative Time (Process)\" instead of \"val_loss\". \n",
    "\n",
    "![](Fig3.png)\n",
    "\n",
    "While WandB's [Sweeps](https://docs.wandb.ai/guides/sweeps/) offers hyperparameter optimization, its primary strength lies in visualization capabilities. Below is an interactive report showing results from the above tuning run."
   ]
  },
  {
   "cell_type": "code",
   "execution_count": 9,
   "metadata": {},
   "outputs": [
    {
     "data": {
      "text/html": [
       "\n",
       "        <iframe\n",
       "            width=\"100%\"\n",
       "            height=\"1024\"\n",
       "            src=\"https://wandb.ai/auth0-1wgih-hs/WandB-RayTune-LightGBM/reports/Tuning-trial-1--VmlldzoxMTA5NDQxMg?style=border%3Anone\"\n",
       "            frameborder=\"0\"\n",
       "            allowfullscreen\n",
       "            \n",
       "        ></iframe>\n",
       "        "
      ],
      "text/plain": [
       "<IPython.lib.display.IFrame at 0x39fd3c800>"
      ]
     },
     "execution_count": 9,
     "metadata": {},
     "output_type": "execute_result"
    }
   ],
   "source": [
    "IFrame(\"https://wandb.ai/auth0-1wgih-hs/WandB-RayTune-LightGBM/reports/Tuning-trial-1--VmlldzoxMTA5NDQxMg\", style=\"border:none\", height=1024, width=\"100%\")"
   ]
  },
  {
   "cell_type": "markdown",
   "metadata": {},
   "source": [
    "The Sweeps visualization offers two key plots: the **hyperparameter importance** plot and the **parallel coordinates** plot. The importance plot (top) reveals that learning rate has the strongest influence on validation loss in this run. Users can analyze different metrics via the drop-down menu and add comparative plots for training and validation scores.\n",
    "The parallel coordinates plot (bottom) visualizes hyperparameter interactions. Mouse-over highlights individual runs, and `val_loss` color gradient helps identify optimal parameter combinations, with darker colors indicating lower (better) scores."
   ]
  },
  {
   "cell_type": "markdown",
   "metadata": {},
   "source": [
    "## Sharing Sweeps results publicly\n",
    "\n",
    "An existing WandB result (report, Sweeps, etc.) can be shown in a Jupyter notebook by using `%wandb` magic ([documentation](https://docs.wandb.ai/guides/track/jupyter/)):\n",
    "```python\n",
    "# Display a project workspace\n",
    "%wandb USERNAME/PROJECT\n",
    "# Display a single run\n",
    "%wandb USERNAME/PROJECT/runs/RUN_ID\n",
    "# Display a sweep\n",
    "%wandb USERNAME/PROJECT/sweeps/SWEEP_ID\n",
    "# Display a report\n",
    "%wandb USERNAME/PROJECT/reports/REPORT_ID\n",
    "# Specify the height of embedded iframe\n",
    "%wandb USERNAME/PROJECT -h 2048\n",
    "```\n",
    "\n",
    "To share the interactive plots shown above, I used a different method: creating and sharing a WandB report. In a report, users can add results, visualizations, text, imaged, etc. as if it is a Jupyter notebook. After creating a report, I embedded my report's iframe output to enable Quarto rendering (the publishing tool I am currently using). To generate a public report, change the visibility to \"Public\" in the *project* settings page:\n",
    "\n",
    "![](Fig4.png){width=50%}"
   ]
  },
  {
   "cell_type": "markdown",
   "metadata": {},
   "source": [
    "## Model tuning with ASHA scheduler"
   ]
  },
  {
   "cell_type": "markdown",
   "metadata": {},
   "source": [
    "To optimize tuning efficiency, in the example below, I added `ASHAScheduler` (Asynchronous Successive Halving Algorithm) in `tune.TuneConfig` and increased the number of searches to 128."
   ]
  },
  {
   "cell_type": "code",
   "execution_count": 9,
   "metadata": {},
   "outputs": [],
   "source": [
    "n_searches = 128\n",
    "\n",
    "\n",
    "def tune_with_asha(config, data):\n",
    "    tuner = tune.Tuner(\n",
    "        tune.with_parameters(train_function, data=data),\n",
    "        param_space=config,\n",
    "        tune_config=tune.TuneConfig(\n",
    "            metric=\"val_loss\",\n",
    "            mode=\"min\",\n",
    "            num_samples=n_searches,\n",
    "            scheduler=ASHAScheduler(),\n",
    "        ),\n",
    "        run_config=train.RunConfig(\n",
    "            callbacks=[WandbLoggerCallback(project=\"WandB-RayTune-LightGBM\")]\n",
    "        ),\n",
    "    )\n",
    "    tuner.fit()\n",
    "    \n",
    "tune_with_asha(config, data)    "
   ]
  },
  {
   "cell_type": "markdown",
   "metadata": {},
   "source": [
    "![](Fig5.png)"
   ]
  },
  {
   "cell_type": "markdown",
   "metadata": {},
   "source": [
    "The parallel coordinates plot from this run includes a `Step` axis (second from the right) that visualizes `ASHAScheduler`'s behavior. The dark purple curves represent trials that ran longer (higher `Step` values) and achieved lower `val_loss`. This demonstrates ASHA's effectiveness at pruning unpromising trials through early stopping. With more searches, hyperparameter impacts are more clear here. For example, lower learning rates consistently lead to poorer model performance in this run."
   ]
  },
  {
   "cell_type": "markdown",
   "metadata": {},
   "source": [
    "## Summary\n",
    "\n",
    "This post demonstrated how to combine Weights & Biases visualization capabilities with Ray Tune's hyperparameter optimization for LightGBM models. Ray Tune provides flexible and scalable hyperparameter tuning machinery, while WandB offers detailed visualization tools for analyzing results. Even though WandB offers model tuning service, Ray Tune is still one of the main model tuning frameworks in ML community, and thus it is valuable to understand their integration. Among WandB's visualization tools, the parallel coordinates and hyperparameter importance plots provide valuable insights into parameter relationships and their impact on model performance."
   ]
  }
 ],
 "metadata": {
  "kernelspec": {
   "display_name": "wandb",
   "language": "python",
   "name": "python3"
  },
  "language_info": {
   "codemirror_mode": {
    "name": "ipython",
    "version": 3
   },
   "file_extension": ".py",
   "mimetype": "text/x-python",
   "name": "python",
   "nbconvert_exporter": "python",
   "pygments_lexer": "ipython3",
   "version": "3.12.0"
  }
 },
 "nbformat": 4,
 "nbformat_minor": 2
}
