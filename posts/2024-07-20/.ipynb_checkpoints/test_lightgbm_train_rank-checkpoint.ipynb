{
 "cells": [
  {
   "cell_type": "markdown",
   "id": "9f667696-2a79-4a07-9711-d50fa4332725",
   "metadata": {},
   "source": []
  },
  {
   "cell_type": "code",
   "execution_count": 15,
   "id": "568d3a72-2e39-4460-8980-b742e35b1351",
   "metadata": {},
   "outputs": [],
   "source": [
    "import lightgbm as lgb\n",
    "import numpy as np"
   ]
  },
  {
   "cell_type": "code",
   "execution_count": 14,
   "id": "0801f915-d0de-418d-a159-c2db72678690",
   "metadata": {},
   "outputs": [],
   "source": [
    "X_train = np.random.random(size=(100, 3))\n",
    "y_train = np.random.randint(low=0, high=3, size=100)\n",
    "group_train = [20] * 5\n",
    "\n",
    "X_test = np.random.random(size=(50, 3))\n",
    "y_test = np.random.randint(low=0, high=3, size=50)\n",
    "group_test = [10] * 5"
   ]
  },
  {
   "cell_type": "code",
   "execution_count": 17,
   "id": "27537014-63ff-4e0b-bc52-c3e3f066c655",
   "metadata": {},
   "outputs": [],
   "source": [
    "train_set = lgb.Dataset(X_train, label=y_train, group=group_train)\n",
    "test_set = lgb.Dataset(X_test, label=y_test, group=group_test)"
   ]
  },
  {
   "cell_type": "code",
   "execution_count": 20,
   "id": "7895a7bc-1261-4688-9136-2dca5e2ecd55",
   "metadata": {},
   "outputs": [
    {
     "name": "stdout",
     "output_type": "stream",
     "text": [
      "[LightGBM] [Info] Auto-choosing col-wise multi-threading, the overhead of testing was 0.001476 seconds.\n",
      "You can set `force_col_wise=true` to remove the overhead.\n",
      "[LightGBM] [Info] Total Bins 105\n",
      "[LightGBM] [Info] Number of data points in the train set: 100, number of used features: 3\n",
      "[LightGBM] [Warning] No further splits with positive gain, best gain: -inf\n",
      "[LightGBM] [Warning] No further splits with positive gain, best gain: -inf\n",
      "[LightGBM] [Warning] No further splits with positive gain, best gain: -inf\n",
      "[LightGBM] [Warning] No further splits with positive gain, best gain: -inf\n",
      "[LightGBM] [Warning] No further splits with positive gain, best gain: -inf\n"
     ]
    }
   ],
   "source": [
    "params = {\n",
    "    'objective': 'rank_xendcg',\n",
    "    'num_iterations': 5\n",
    "}\n",
    "    \n",
    "gbm = lgb.train(\n",
    "    params,\n",
    "    train_set,\n",
    "    valid_sets=[test_set]\n",
    ")"
   ]
  },
  {
   "cell_type": "code",
   "execution_count": 21,
   "id": "bb92f151-6026-4e0b-ba4e-bbef45f81ca8",
   "metadata": {},
   "outputs": [
    {
     "data": {
      "text/plain": [
       "defaultdict(collections.OrderedDict,\n",
       "            {'valid_0': OrderedDict([('ndcg@1',\n",
       "                           np.float64(0.3333333333333333)),\n",
       "                          ('ndcg@2', np.float64(0.33333333333333337)),\n",
       "                          ('ndcg@3', np.float64(0.48243913572790253)),\n",
       "                          ('ndcg@4', np.float64(0.563339261997658)),\n",
       "                          ('ndcg@5', np.float64(0.5649721147346176))])})"
      ]
     },
     "execution_count": 21,
     "metadata": {},
     "output_type": "execute_result"
    }
   ],
   "source": [
    "gbm.best_score"
   ]
  },
  {
   "cell_type": "code",
   "execution_count": null,
   "id": "f0100413-d757-4625-b3b9-8cd2cc2a4a07",
   "metadata": {},
   "outputs": [],
   "source": [
    "config = {\n",
    "        \"objective\": \"binary\",\n",
    "        \"metric\": [\"binary_error\", \"binary_logloss\"],\n",
    "        \"verbose\": -1,\n",
    "        \"boosting_type\": tune.grid_search([\"gbdt\", \"dart\"]),\n",
    "        \"num_leaves\": tune.randint(10, 1000),\n",
    "        \"learning_rate\": tune.loguniform(1e-8, 1e-1),\n",
    "    }"
   ]
  }
 ],
 "metadata": {
  "kernelspec": {
   "display_name": "Python 3 (ipykernel)",
   "language": "python",
   "name": "python3"
  },
  "language_info": {
   "codemirror_mode": {
    "name": "ipython",
    "version": 3
   },
   "file_extension": ".py",
   "mimetype": "text/x-python",
   "name": "python",
   "nbconvert_exporter": "python",
   "pygments_lexer": "ipython3",
   "version": "3.12.4"
  }
 },
 "nbformat": 4,
 "nbformat_minor": 5
}
