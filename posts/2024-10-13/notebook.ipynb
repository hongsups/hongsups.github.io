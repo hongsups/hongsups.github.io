{
 "cells": [
  {
   "cell_type": "markdown",
   "id": "d786b426-edd4-4225-afdc-e18e6d1b60f3",
   "metadata": {},
   "source": [
    "---\n",
    "title: Asynchronous successive halving algorithm (ASHA) with Ray scheduler\n",
    "author: Hongsup Shin\n",
    "date: 2024-10-13\n",
    "image: \n",
    "description: \n",
    "categories: \n",
    "format:\n",
    "  html:\n",
    "    code-fold: true\n",
    "---"
   ]
  },
  {
   "cell_type": "code",
   "execution_count": null,
   "id": "55d48f15-5f6e-4588-b8b6-d5c8ef1193ab",
   "metadata": {},
   "outputs": [],
   "source": []
  }
 ],
 "metadata": {
  "kernelspec": {
   "display_name": "Python 3 (ipykernel)",
   "language": "python",
   "name": "python3"
  },
  "language_info": {
   "codemirror_mode": {
    "name": "ipython",
    "version": 3
   },
   "file_extension": ".py",
   "mimetype": "text/x-python",
   "name": "python",
   "nbconvert_exporter": "python",
   "pygments_lexer": "ipython3",
   "version": "3.12.4"
  }
 },
 "nbformat": 4,
 "nbformat_minor": 5
}
